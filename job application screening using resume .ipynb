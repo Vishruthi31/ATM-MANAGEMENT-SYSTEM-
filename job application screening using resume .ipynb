{
  "nbformat": 4,
  "nbformat_minor": 0,
  "metadata": {
    "colab": {
      "provenance": [],
      "authorship_tag": "ABX9TyOLxEMarV1kmRRWnFp7cPdb",
      "include_colab_link": true
    },
    "kernelspec": {
      "name": "python3",
      "display_name": "Python 3"
    },
    "language_info": {
      "name": "python"
    }
  },
  "cells": [
    {
      "cell_type": "markdown",
      "metadata": {
        "id": "view-in-github",
        "colab_type": "text"
      },
      "source": [
        "<a href=\"https://colab.research.google.com/github/Vishruthi31/ATM-MANAGEMENT-SYSTEM-/blob/main/job%20application%20screening%20using%20resume%20.ipynb\" target=\"_parent\"><img src=\"https://colab.research.google.com/assets/colab-badge.svg\" alt=\"Open In Colab\"/></a>"
      ]
    },
    {
      "cell_type": "code",
      "execution_count": 2,
      "metadata": {
        "colab": {
          "base_uri": "https://localhost:8080/"
        },
        "id": "Xzl06Q7JIovU",
        "outputId": "8776d1ab-6dca-4386-a95e-58ae4d72f929"
      },
      "outputs": [
        {
          "output_type": "stream",
          "name": "stdout",
          "text": [
            "Collecting docx2txt\n",
            "  Downloading docx2txt-0.8.tar.gz (2.8 kB)\n",
            "  Preparing metadata (setup.py) ... \u001b[?25l\u001b[?25hdone\n",
            "Building wheels for collected packages: docx2txt\n",
            "  Building wheel for docx2txt (setup.py) ... \u001b[?25l\u001b[?25hdone\n",
            "  Created wheel for docx2txt: filename=docx2txt-0.8-py3-none-any.whl size=3960 sha256=541335d82e2eac320a0fb90e961b9e0a5a99c7a35a18e01e080785e9f711351b\n",
            "  Stored in directory: /root/.cache/pip/wheels/22/58/cf/093d0a6c3ecfdfc5f6ddd5524043b88e59a9a199cb02352966\n",
            "Successfully built docx2txt\n",
            "Installing collected packages: docx2txt\n",
            "Successfully installed docx2txt-0.8\n"
          ]
        }
      ],
      "source": [
        "!pip install docx2txt\n",
        "import docx2txt"
      ]
    },
    {
      "cell_type": "code",
      "source": [
        "job_description=docx2txt.process('/content/sample_description.docx')\n",
        "resume=docx2txt.process('/content/RCAS2021-VISHRUTHI M- BSc. AI&ML.docx')"
      ],
      "metadata": {
        "id": "jgjDHw3YKQig"
      },
      "execution_count": 3,
      "outputs": []
    },
    {
      "cell_type": "code",
      "source": [
        "print(resume)"
      ],
      "metadata": {
        "colab": {
          "base_uri": "https://localhost:8080/"
        },
        "id": "K9dhNZNxL49P",
        "outputId": "0b696e45-c1f1-4f79-e1f1-591ac6c731cd"
      },
      "execution_count": 6,
      "outputs": [
        {
          "output_type": "stream",
          "name": "stdout",
          "text": [
            "EDUCATION\n",
            "\n",
            "RATHINAM COLLEGE OF ARTS AND SCIENCE\n",
            "\n",
            "\n",
            "VISHRUTHI M\n",
            "\n",
            "vishruthimohan313@gmail.com | 9361681427\n",
            "\n",
            "\n",
            "\n",
            "PROJECTS\n",
            "\n",
            "\tATM MANAGEMENT SYSTEM (PYTHON)\n",
            "\n",
            "| Implemented an ATM Management System using Python, Tkinter,\n",
            "\n",
            "\n",
            "\n",
            "BSc.ARTIFICIAL INTELLIGENCE AND MACHINE LEARNING\n",
            "\n",
            "2021-2024\n",
            "\n",
            "Cum. GPA: 73.2\n",
            "\n",
            "MDN FUTURE CBSE SENIOR SECONDARy SCHOOL\n",
            "\n",
            "HSC-73 2020-2021 SSLC-63\n",
            "\n",
            "2018-2019\n",
            "\n",
            "\n",
            "\n",
            "LINKS\n",
            "\n",
            "Github:// Vishruthi31\n",
            "\n",
            "LinkedIn:// vishruthimohankumar- 7b7a28250\n",
            "\n",
            "\n",
            "\n",
            "COURSEWORK\n",
            "\n",
            "UNDERGRADUATE\n",
            "\n",
            "\n",
            "and GUI tools, showcasing proficiency in creating an intuitive GUI for efficient navigation and transaction processing.\n",
            "\n",
            "DEC (2022)\n",
            "\n",
            "\tLPG GAS LEAKAGE DETECTOR- IOT PROJECT (HARDWARE))\n",
            "\n",
            "|Designed an IoT-based LPG Gas Leakage Detector project, utilizing sensors and connectivity to enable real-time monitoring and automated alerts for enhanced safety.\n",
            "\n",
            "FEB (2023))\n",
            "\n",
            "\tHOTEL MANAGEMENT SYSTEM (PYTHON AND MYSQL)\n",
            "\n",
            "|Developed a Hotel Management System using Python and MySQL, applied coding skills to create a user-friendly system, showcasing expertise in Python-based project development.\n",
            "\n",
            "SEP(2023)\n",
            "\n",
            "\n",
            "\n",
            "SKILLS\n",
            "\n",
            "\tTECHNICAL : | Python | Pandas | MySql | NLP | RPA | Microsoft Office| Data mining | Generative AI| Git | HTML\n",
            "\n",
            "\tSOFT SKILL:  Scheduling | Problem-Solving | Presentation skill\n",
            "\n",
            "|Collaborative | Effective Communication.\n",
            "\n",
            "\n",
            "\n",
            "•OOPs concepts\n",
            "\n",
            "•Machine learning Algorithm\n",
            "\n",
            "•Software Project Management\n",
            "\n",
            "•Data Structure\n",
            "\n",
            "\t\n",
            "LANGUAGE:\n",
            "\n",
            "AWARDS\n",
            "\n",
            "\n",
            "English| Tamil| Telugu\n",
            "\n",
            "\n",
            "\n",
            "•HADOOP\n",
            "\n",
            "•Data Warehouse\n",
            "\n",
            "\n",
            "\n",
            "PROGRAMMING\n",
            "\n",
            "HACKER RANK\n",
            "\n",
            "Over 300 lines:\n",
            "\n",
            "\tPython\n",
            "\n",
            "Familiar:\n",
            "\n",
            "\tMySQL\n",
            "\n",
            "\n",
            "\n",
            "INTERNSHIP\n",
            "\n",
            "FORAGE\n",
            "\n",
            "Artificial Intelligence Virtual Experience Program in Forage.\n",
            "\n",
            "Skill Gained – Exploratory Data analysis, data modelling.\n",
            "\n",
            "\t\t\t\n",
            "2022\t2nd Rank Holder\tRathinam college\n",
            "\n",
            "\t\t\t2023\t3nd Rank Holder\tRathinam college\n",
            "\n",
            "\n",
            "\n",
            "PUBLICATIONS\n",
            "\n",
            "\tPython for Beginners – Sololearn.\n",
            "\n",
            "•Introduction to Data Analysis with Python - freecodecamp.\n",
            "\n",
            "•Certification by Cognizant Foundation and ICT Academy on Uipath certified RPA.\n",
            "\n",
            "\tPython 101 for Data Science by IBM cognitive class.\n",
            "\n",
            "•Introduction to Data Science by Cisco.\n",
            "\n",
            "\tPython Intermediate – Sololearn.\n",
            "\n",
            "\tIntroducation to SQL - Sololearn\n",
            "\n",
            "\tPython Developer– Sololearn\n"
          ]
        }
      ]
    },
    {
      "cell_type": "code",
      "source": [
        "content=[job_description, resume]"
      ],
      "metadata": {
        "id": "EukSFl55NDAt"
      },
      "execution_count": 7,
      "outputs": []
    },
    {
      "cell_type": "code",
      "source": [
        "from sklearn.feature_extraction.text import CountVectorizer\n",
        "cv=CountVectorizer()\n",
        "matrix=cv.fit_transform(content)"
      ],
      "metadata": {
        "id": "LkjBspzrNdO1"
      },
      "execution_count": 9,
      "outputs": []
    },
    {
      "cell_type": "code",
      "source": [
        "from sklearn.metrics.pairwise import cosine_similarity\n",
        "similarity_matrix=cosine_similarity(matrix)"
      ],
      "metadata": {
        "id": "4ZDe8er7N7Ya"
      },
      "execution_count": 10,
      "outputs": []
    },
    {
      "cell_type": "code",
      "source": [
        "print(similarity_matrix)"
      ],
      "metadata": {
        "colab": {
          "base_uri": "https://localhost:8080/"
        },
        "id": "7AuROYkIOOcX",
        "outputId": "cbcdd9d3-6329-43fc-98b4-7ead69412441"
      },
      "execution_count": 11,
      "outputs": [
        {
          "output_type": "stream",
          "name": "stdout",
          "text": [
            "[[1.         0.37784396]\n",
            " [0.37784396 1.        ]]\n"
          ]
        }
      ]
    },
    {
      "cell_type": "code",
      "source": [
        "print('Resume matches by: '+ str(similarity_matrix[1][0]*100)+'%')"
      ],
      "metadata": {
        "colab": {
          "base_uri": "https://localhost:8080/"
        },
        "id": "YaEr1KC7ObjR",
        "outputId": "80362eab-115a-42ca-a458-2040d2881bae"
      },
      "execution_count": 12,
      "outputs": [
        {
          "output_type": "stream",
          "name": "stdout",
          "text": [
            "Resume matches by: 37.78439585928087%\n"
          ]
        }
      ]
    },
    {
      "cell_type": "code",
      "source": [],
      "metadata": {
        "id": "E8inuScLObnj"
      },
      "execution_count": null,
      "outputs": []
    }
  ]
}